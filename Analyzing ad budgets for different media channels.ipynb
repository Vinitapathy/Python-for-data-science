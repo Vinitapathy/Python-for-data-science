{
 "cells": [
  {
   "cell_type": "code",
   "execution_count": 4,
   "id": "4da95a77",
   "metadata": {},
   "outputs": [],
   "source": [
    "# Import the required libraries\n",
    "import numpy as np\n",
    "import pandas as pd"
   ]
  },
  {
   "cell_type": "code",
   "execution_count": 12,
   "id": "6cec2fb1",
   "metadata": {},
   "outputs": [],
   "source": [
    "# import the required dataset\n",
    "df_ad_budgets = pd.read_csv(r'C:\\Users\\user\\Desktop\\Vinni study folder\\my python notebooks\\practice datasets\\Advertising_Budget_and_Sales.csv',index_col = 0)"
   ]
  },
  {
   "cell_type": "code",
   "execution_count": 13,
   "id": "1af4c4fb",
   "metadata": {},
   "outputs": [
    {
     "name": "stdout",
     "output_type": "stream",
     "text": [
      "   TV Ad Budget ($)  Radio Ad Budget ($)  Newspaper Ad Budget ($)  Sales ($)\n",
      "1             230.1                 37.8                     69.2       22.1\n",
      "2              44.5                 39.3                     45.1       10.4\n",
      "3              17.2                 45.9                     69.3        9.3\n",
      "4             151.5                 41.3                     58.5       18.5\n",
      "5             180.8                 10.8                     58.4       12.9\n"
     ]
    }
   ],
   "source": [
    "# View top 5 records\n",
    "print(df_ad_budgets.head(5))"
   ]
  },
  {
   "cell_type": "code",
   "execution_count": 14,
   "id": "ff88819e",
   "metadata": {},
   "outputs": [
    {
     "data": {
      "text/plain": [
       "(200, 4)"
      ]
     },
     "execution_count": 14,
     "metadata": {},
     "output_type": "execute_result"
    }
   ],
   "source": [
    "# view shape of data\n",
    "df_ad_budgets.shape"
   ]
  },
  {
   "cell_type": "code",
   "execution_count": 15,
   "id": "9169cad0",
   "metadata": {},
   "outputs": [
    {
     "data": {
      "text/plain": [
       "800"
      ]
     },
     "execution_count": 15,
     "metadata": {},
     "output_type": "execute_result"
    }
   ],
   "source": [
    "# view size od data\n",
    "df_ad_budgets.size"
   ]
  },
  {
   "cell_type": "code",
   "execution_count": 16,
   "id": "e041f594",
   "metadata": {},
   "outputs": [
    {
     "data": {
      "text/plain": [
       "Index(['TV Ad Budget ($)', 'Radio Ad Budget ($)', 'Newspaper Ad Budget ($)',\n",
       "       'Sales ($)'],\n",
       "      dtype='object')"
      ]
     },
     "execution_count": 16,
     "metadata": {},
     "output_type": "execute_result"
    }
   ],
   "source": [
    "# view columns of dataset\n",
    "df_ad_budgets.columns"
   ]
  },
  {
   "cell_type": "code",
   "execution_count": 18,
   "id": "abecfbc8",
   "metadata": {},
   "outputs": [],
   "source": [
    "# create a feature object\n",
    "X = df_ad_budgets[['TV Ad Budget ($)', 'Radio Ad Budget ($)', 'Newspaper Ad Budget ($)']]"
   ]
  },
  {
   "cell_type": "code",
   "execution_count": 19,
   "id": "f911993d",
   "metadata": {},
   "outputs": [],
   "source": [
    "# Create a target object\n",
    "Y = df_ad_budgets['Sales ($)']"
   ]
  },
  {
   "cell_type": "code",
   "execution_count": 22,
   "id": "8f317334",
   "metadata": {},
   "outputs": [
    {
     "data": {
      "text/plain": [
       "1    22.1\n",
       "2    10.4\n",
       "3     9.3\n",
       "4    18.5\n",
       "5    12.9\n",
       "Name: Sales ($), dtype: float64"
      ]
     },
     "execution_count": 22,
     "metadata": {},
     "output_type": "execute_result"
    }
   ],
   "source": [
    "Y.head()"
   ]
  },
  {
   "cell_type": "code",
   "execution_count": 23,
   "id": "f676b770",
   "metadata": {},
   "outputs": [
    {
     "data": {
      "text/plain": [
       "(200,)"
      ]
     },
     "execution_count": 23,
     "metadata": {},
     "output_type": "execute_result"
    }
   ],
   "source": [
    "Y.shape"
   ]
  },
  {
   "cell_type": "code",
   "execution_count": 24,
   "id": "e867b8fd",
   "metadata": {},
   "outputs": [
    {
     "data": {
      "text/plain": [
       "200"
      ]
     },
     "execution_count": 24,
     "metadata": {},
     "output_type": "execute_result"
    }
   ],
   "source": [
    "Y.size"
   ]
  },
  {
   "cell_type": "code",
   "execution_count": 25,
   "id": "5d92401c",
   "metadata": {},
   "outputs": [],
   "source": [
    "# splitting training and split data\n",
    "from sklearn.model_selection import train_test_split"
   ]
  },
  {
   "cell_type": "code",
   "execution_count": 30,
   "id": "f5dbe56b",
   "metadata": {},
   "outputs": [],
   "source": [
    "X_train,X_test,Y_train,Y_test = train_test_split(X,Y,test_size = 0.25,random_state=1)"
   ]
  },
  {
   "cell_type": "code",
   "execution_count": 31,
   "id": "e77e4f27",
   "metadata": {},
   "outputs": [
    {
     "name": "stdout",
     "output_type": "stream",
     "text": [
      "(150, 3)\n",
      "(50, 3)\n",
      "(150,)\n",
      "(50,)\n"
     ]
    }
   ],
   "source": [
    "# shapes of train and test dataset\n",
    "print(X_train.shape)\n",
    "print(X_test.shape)\n",
    "print(Y_train.shape)\n",
    "print(Y_test.shape)\n"
   ]
  },
  {
   "cell_type": "code",
   "execution_count": 32,
   "id": "5c3bcc2a",
   "metadata": {},
   "outputs": [],
   "source": [
    "# importing the linear regression model\n",
    "from sklearn.linear_model import LinearRegression\n",
    "linreg = LinearRegression()"
   ]
  },
  {
   "cell_type": "code",
   "execution_count": 33,
   "id": "077ff96f",
   "metadata": {},
   "outputs": [
    {
     "data": {
      "text/plain": [
       "LinearRegression()"
      ]
     },
     "execution_count": 33,
     "metadata": {},
     "output_type": "execute_result"
    }
   ],
   "source": [
    "# fitting data into model\n",
    "linreg.fit(X_train,Y_train)"
   ]
  },
  {
   "cell_type": "code",
   "execution_count": 34,
   "id": "affa792d",
   "metadata": {},
   "outputs": [
    {
     "name": "stdout",
     "output_type": "stream",
     "text": [
      "The coefficient is  [0.04656457 0.17915812 0.00345046]\n",
      "The intercept is 2.8769666223179318\n"
     ]
    }
   ],
   "source": [
    "# print the coefficient and intercept\n",
    "print('The coefficient is ', linreg.coef_)\n",
    "print('The intercept is' , linreg.intercept_)"
   ]
  },
  {
   "cell_type": "code",
   "execution_count": 36,
   "id": "3ad780d9",
   "metadata": {},
   "outputs": [
    {
     "data": {
      "text/plain": [
       "array([24.12177431, 14.85072173,  6.72379456, 19.85930425, 18.82871344,\n",
       "       12.44036847, 14.1133213 ,  6.11429897, 15.25538172,  9.59017294,\n",
       "       12.00904752, 11.99639844,  8.51767752, 21.51721458, 23.2674336 ,\n",
       "       12.3016954 ,  6.64318924, 17.81473483, 16.45931297,  8.75863135,\n",
       "       20.32409492, 20.63892684, 24.22047897, 10.18866779, 10.52134783,\n",
       "       16.36447734, 10.50103906,  6.62889298, 21.34875677, 14.41738921,\n",
       "       15.43480827, 10.04055221, 14.90502045, 13.79123657,  8.34820201,\n",
       "        8.80345707, 10.13232857,  8.1484559 , 16.98009212, 15.17016985,\n",
       "       16.80176624, 23.16942787, 13.45151878,  9.84073826, 18.09613708,\n",
       "       14.76973195,  5.36623458, 12.80714865, 11.90755307, 12.03462847,\n",
       "       11.80158932, 14.92618738,  4.59131578, 16.30150609, 12.14035221,\n",
       "       17.76374362, 15.39644612, 18.56560592, 11.51190161, 13.8256774 ,\n",
       "       20.60242288,  5.16578322, 13.64300014,  7.75919776, 21.1960983 ,\n",
       "       13.50508051, 11.8104142 , 10.03424251,  8.95065536, 16.8910163 ,\n",
       "       17.26633631, 19.21944757, 23.13307312, 14.25804586,  8.88751771,\n",
       "       15.52355343, 10.66342793,  9.78143011, 10.98659089,  7.07750292,\n",
       "        7.77529374, 14.15735606,  6.61757544, 14.17513959,  9.14082982,\n",
       "       16.62583191, 10.38401473, 12.71952825,  7.34691779, 20.13205775,\n",
       "       10.1842452 , 13.57579596, 21.01968211, 18.69749766, 16.74926754,\n",
       "       20.70405521, 17.23630941, 17.10882581, 19.60788831, 11.29496684,\n",
       "       20.56107122, 14.82385221,  4.51556985, 14.10719621,  8.09847505,\n",
       "       17.5325813 , 18.03643234,  8.21526335,  9.65176194, 15.89381856,\n",
       "       12.09967858, 21.73496349,  7.81401518, 12.82633945, 24.67575708,\n",
       "        3.65710443,  5.80032719, 21.92493041, 12.14562006, 12.71617443,\n",
       "        6.51137611, 22.88308046, 12.99121207, 12.02555227,  8.16917248,\n",
       "       18.49957609, 11.41189895, 12.7255364 , 18.89619851, 12.85534354,\n",
       "       19.22327612, 10.16909074, 15.21700634, 19.35766259, 15.39499271,\n",
       "       23.53029627, 18.19360305, 16.25522225, 15.81312901, 11.73705319,\n",
       "       10.66109706,  7.95082737, 10.14224134,  4.52146018,  9.73767977,\n",
       "       19.2692717 , 21.00535133, 10.10370905,  9.38500498, 15.36343733])"
      ]
     },
     "execution_count": 36,
     "metadata": {},
     "output_type": "execute_result"
    }
   ],
   "source": [
    "# # prediction\n",
    "predict = linreg.predict(X_train)\n",
    "predict"
   ]
  },
  {
   "cell_type": "code",
   "execution_count": 37,
   "id": "e6b223ce",
   "metadata": {},
   "outputs": [
    {
     "name": "stdout",
     "output_type": "stream",
     "text": [
      "Mean square error value is 1.97\n"
     ]
    }
   ],
   "source": [
    "# Checking the accuracy of the model \n",
    "print ('Mean square error value is',round(np.mean((linreg.predict(X_test)-Y_test)**2),2))"
   ]
  },
  {
   "cell_type": "code",
   "execution_count": 38,
   "id": "22e82ee8",
   "metadata": {},
   "outputs": [
    {
     "name": "stdout",
     "output_type": "stream",
     "text": [
      "test values 59     23.8\n",
      "41     16.6\n",
      "35      9.5\n",
      "103    14.8\n",
      "185    17.6\n",
      "199    25.5\n",
      "96     16.9\n",
      "5      12.9\n",
      "30     10.5\n",
      "169    17.1\n",
      "Name: Sales ($), dtype: float64\n",
      "\n",
      "predicted values [24.12177431 14.85072173  6.72379456 19.85930425 18.82871344 12.44036847\n",
      " 14.1133213   6.11429897 15.25538172  9.59017294]\n"
     ]
    }
   ],
   "source": [
    "# print the test v/s predicted values\n",
    "print('test values',Y_test[0:10])\n",
    "print()\n",
    "print('predicted values',predict[0:10])"
   ]
  },
  {
   "cell_type": "code",
   "execution_count": 39,
   "id": "28e6641e",
   "metadata": {},
   "outputs": [
    {
     "name": "stdout",
     "output_type": "stream",
     "text": [
      "test values [23.8 16.6  9.5 14.8 17.6 25.5 16.9 12.9 10.5 17.1]\n",
      "\n",
      "predicted values [24.12177431 14.85072173  6.72379456 19.85930425 18.82871344 12.44036847\n",
      " 14.1133213   6.11429897 15.25538172  9.59017294]\n"
     ]
    }
   ],
   "source": [
    "# to print only test values:\n",
    "# print the test v/s predicted values\n",
    "print('test values',Y_test.values[0:10])\n",
    "print()\n",
    "print('predicted values',predict[0:10])"
   ]
  },
  {
   "cell_type": "code",
   "execution_count": null,
   "id": "96ce7584",
   "metadata": {},
   "outputs": [],
   "source": []
  }
 ],
 "metadata": {
  "kernelspec": {
   "display_name": "Python 3",
   "language": "python",
   "name": "python3"
  },
  "language_info": {
   "codemirror_mode": {
    "name": "ipython",
    "version": 3
   },
   "file_extension": ".py",
   "mimetype": "text/x-python",
   "name": "python",
   "nbconvert_exporter": "python",
   "pygments_lexer": "ipython3",
   "version": "3.8.8"
  }
 },
 "nbformat": 4,
 "nbformat_minor": 5
}
