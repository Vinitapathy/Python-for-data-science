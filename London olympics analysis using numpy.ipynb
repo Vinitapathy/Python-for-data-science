{
 "cells": [
  {
   "cell_type": "code",
   "execution_count": null,
   "id": "896e185c",
   "metadata": {},
   "outputs": [],
   "source": [
    "import numpy as np"
   ]
  },
  {
   "cell_type": "code",
   "execution_count": null,
   "id": "69e4aa92",
   "metadata": {},
   "outputs": [],
   "source": [
    "np_olympic_country = np.array([\"GBR\",\"China\",\"RUS\",\"US\",\"kOR\",\"JPN\",\"GER\"])\n",
    "np_olympic_country_gold = np.array([29,38,24,46,13,7,11])\n",
    "np_olympic_country_silver = np.array([17,28,25,28,8,14,11])\n",
    "np_olympic_country_bronze = np.array([19,22,32,29,7,17,14])"
   ]
  },
  {
   "cell_type": "markdown",
   "id": "05c6bb51",
   "metadata": {},
   "source": [
    "### Print the country name that won the maximum gold medals"
   ]
  },
  {
   "cell_type": "code",
   "execution_count": null,
   "id": "c3f1e657",
   "metadata": {},
   "outputs": [],
   "source": [
    "max_gold = np_olympic_country_gold.argmax()\n",
    "print(\"{} won the maximum number of gold medals\".format(np_olympic_country[max_gold]))"
   ]
  },
  {
   "cell_type": "markdown",
   "id": "6d42f76e",
   "metadata": {},
   "source": [
    "### Print name of countries that won more than 20 gold medals"
   ]
  },
  {
   "cell_type": "code",
   "execution_count": null,
   "id": "da63ac75",
   "metadata": {},
   "outputs": [],
   "source": [
    "for i in range(len(np_olympic_country)):\n",
    "    if np_olympic_country_gold[i]>20 :\n",
    "        country = np_olympic_country[i]\n",
    "        medals = np_olympic_country_gold[i]\n",
    "        print(\"{} won {} number of gold medals\".format(country,medals))\n",
    "    "
   ]
  },
  {
   "cell_type": "markdown",
   "id": "a0e87b9f",
   "metadata": {},
   "source": [
    "### or"
   ]
  },
  {
   "cell_type": "code",
   "execution_count": null,
   "id": "7c7ebbf1",
   "metadata": {},
   "outputs": [],
   "source": [
    "print(np_olympic_country[np_olympic_country_gold>20])"
   ]
  },
  {
   "cell_type": "markdown",
   "id": "c4b88eaa",
   "metadata": {},
   "source": [
    "### Print each country with the numbr of gold medals"
   ]
  },
  {
   "cell_type": "code",
   "execution_count": null,
   "id": "a5c65d19",
   "metadata": {},
   "outputs": [],
   "source": [
    "for i in range(len(np_olympic_country)):\n",
    "    country = np_olympic_country[i]\n",
    "    medals =  np_olympic_country_gold[i]\n",
    "    print(\"{} won {} number of gold medals\".format(country,medals))"
   ]
  },
  {
   "cell_type": "markdown",
   "id": "ffd4f218",
   "metadata": {},
   "source": [
    "### Print each country with total number of medals"
   ]
  },
  {
   "cell_type": "code",
   "execution_count": null,
   "id": "59ac19ff",
   "metadata": {},
   "outputs": [],
   "source": [
    "sum_of_medals = np_olympic_country_gold +  np_olympic_country_silver +  np_olympic_country_bronze\n",
    "       "
   ]
  },
  {
   "cell_type": "code",
   "execution_count": null,
   "id": "d2b045ec",
   "metadata": {},
   "outputs": [],
   "source": [
    "for i in range(len(np_olympic_country)):\n",
    "    country = np_olympic_country[i]\n",
    "    medals =  sum_of_medals[i]\n",
    "    print(\"{} won {} number of medals\".format(country,medals))"
   ]
  },
  {
   "cell_type": "code",
   "execution_count": null,
   "id": "01299677",
   "metadata": {},
   "outputs": [],
   "source": []
  }
 ],
 "metadata": {
  "kernelspec": {
   "display_name": "Python 3",
   "language": "python",
   "name": "python3"
  },
  "language_info": {
   "codemirror_mode": {
    "name": "ipython",
    "version": 3
   },
   "file_extension": ".py",
   "mimetype": "text/x-python",
   "name": "python",
   "nbconvert_exporter": "python",
   "pygments_lexer": "ipython3",
   "version": "3.8.8"
  }
 },
 "nbformat": 4,
 "nbformat_minor": 5
}
