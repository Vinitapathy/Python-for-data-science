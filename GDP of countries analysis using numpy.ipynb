{
 "cells": [
  {
   "cell_type": "code",
   "execution_count": 6,
   "id": "7a976359",
   "metadata": {},
   "outputs": [],
   "source": [
    "import numpy as np"
   ]
  },
  {
   "cell_type": "code",
   "execution_count": 7,
   "id": "72b8f453",
   "metadata": {},
   "outputs": [],
   "source": [
    "#List of countries:\n",
    "c = ['Algeria','Angola','Argentina','Australia','Austria','Bahamas','Bangladesh','Belarus','Belgium','Bhutan','Brazil','Bulgaria','Cambodia','Cameroon','Chile','China','Colombia','Cyprus','Denmark','El Salvador','Estonia','Ethiopia','Fiji','Finland','France','Georgia','Ghana','Grenada','Guinea','Haiti','Honduras','Hungary','India','Indonesia','Ireland','Italy','Japan','Kenya', 'South Korea','Liberia','Malaysia','Mexico', 'Morocco','Nepal','New Zealand','Norway','Pakistan', 'Peru','Qatar','Russia','Singapore','South Africa','Spain','Sweden','Switzerland','Thailand', 'United Arab Emirates','United Kingdom','United States','Uruguay','Venezuela','Vietnam','Zimbabwe']\n",
    "countries = np.array(c)\n",
    "\n",
    "\n",
    "#GDP values for each country:\n",
    "g = [2255.225482,629.9553062,11601.63022,25306.82494,27266.40335,19466.99052,588.3691778,2890.345675,24733.62696,1445.760002,4803.398244,2618.876037,590.4521124,665.7982328,7122.938458,2639.54156,3362.4656,15378.16704,30860.12808,2579.115607,6525.541272,229.6769525,2242.689259,27570.4852,23016.84778,1334.646773,402.6953275,6047.200797,394.1156638,385.5793827,1414.072488,5745.981529,837.7464011,1206.991065,27715.52837,18937.24998,39578.07441,478.2194906,16684.21278,279.2204061,5345.213415,6288.25324,1908.304416,274.8728621,14646.42094,40034.85063,672.1547506,3359.517402,36152.66676,3054.727742,33529.83052,3825.093781,15428.32098,33630.24604,39170.41371,2699.123242,21058.43643,28272.40661,37691.02733,9581.05659,5671.912202,757.4009286,347.7456605]\n",
    "gdp_values = np.array(g)"
   ]
  },
  {
   "cell_type": "markdown",
   "id": "9dd25200",
   "metadata": {},
   "source": [
    "### Print the country with max GDP : "
   ]
  },
  {
   "cell_type": "code",
   "execution_count": null,
   "id": "370a3601",
   "metadata": {},
   "outputs": [],
   "source": [
    "index_max = gdp_values.argmax()                  # to find the index at which the max GDP value is stored \n",
    "print(\"The country with maximum GDP is {}\".format(countries[index_max]))"
   ]
  },
  {
   "cell_type": "markdown",
   "id": "c32f561a",
   "metadata": {},
   "source": [
    "### Print the country with min GDP:"
   ]
  },
  {
   "cell_type": "code",
   "execution_count": null,
   "id": "3e7a6a2f",
   "metadata": {},
   "outputs": [],
   "source": [
    "index_min = gdp_values.argmin()\n",
    "print(\"The country with minimum GDP is {}\".format(countries[index_min]))"
   ]
  },
  {
   "cell_type": "markdown",
   "id": "f2ac7ad5",
   "metadata": {},
   "source": [
    "### Print all countries with their GDP: "
   ]
  },
  {
   "cell_type": "code",
   "execution_count": null,
   "id": "dfaf0fac",
   "metadata": {},
   "outputs": [],
   "source": [
    "for country in countries : \n",
    "    print(\"iterating country {}\".format(country))"
   ]
  },
  {
   "cell_type": "markdown",
   "id": "ddeca2e3",
   "metadata": {},
   "source": [
    "### Print all countries with their GDP :\n"
   ]
  },
  {
   "cell_type": "code",
   "execution_count": null,
   "id": "3fa0b28d",
   "metadata": {},
   "outputs": [],
   "source": [
    "for i in range(len(countries)):\n",
    "    country = countries[i]\n",
    "    GDP = gdp_values[i]\n",
    "    print(\"The GDP of {} is {}\".format(country,GDP))\n",
    "    "
   ]
  },
  {
   "cell_type": "markdown",
   "id": "27bfe57b",
   "metadata": {},
   "source": [
    "### Printing out the highest and the lowest GDP values "
   ]
  },
  {
   "cell_type": "code",
   "execution_count": null,
   "id": "dcd4c5a8",
   "metadata": {},
   "outputs": [],
   "source": [
    "print(\"the max GDP value is\",gdp_values.max())"
   ]
  },
  {
   "cell_type": "code",
   "execution_count": null,
   "id": "014a931d",
   "metadata": {},
   "outputs": [],
   "source": [
    "print(\"the min GDP value is\",gdp_values.min())"
   ]
  },
  {
   "cell_type": "markdown",
   "id": "76370501",
   "metadata": {},
   "source": [
    "### Printing out the mean and standard deviation "
   ]
  },
  {
   "cell_type": "code",
   "execution_count": null,
   "id": "f4472504",
   "metadata": {},
   "outputs": [],
   "source": [
    "print(\"the mean of GDP is\",gdp_values.mean())"
   ]
  },
  {
   "cell_type": "code",
   "execution_count": null,
   "id": "235ee6a8",
   "metadata": {},
   "outputs": [],
   "source": [
    "print(\"the standard deviation of GDP is\",gdp_values.std())"
   ]
  }
 ],
 "metadata": {
  "kernelspec": {
   "display_name": "Python 3",
   "language": "python",
   "name": "python3"
  },
  "language_info": {
   "codemirror_mode": {
    "name": "ipython",
    "version": 3
   },
   "file_extension": ".py",
   "mimetype": "text/x-python",
   "name": "python",
   "nbconvert_exporter": "python",
   "pygments_lexer": "ipython3",
   "version": "3.8.8"
  }
 },
 "nbformat": 4,
 "nbformat_minor": 5
}
